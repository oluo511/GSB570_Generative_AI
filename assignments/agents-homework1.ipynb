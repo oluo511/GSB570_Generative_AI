{
 "cells": [
  {
   "cell_type": "markdown",
   "id": "dff95dd0-f637-4d68-8746-8583fd081426",
   "metadata": {},
   "source": [
    "### Agents\n",
    "Agents will provide a way for us to add additional sources of information that will build on our RAG approach.  We may need to execute code or search different information sources to build a complex context to answer user queries."
   ]
  },
  {
   "cell_type": "markdown",
   "id": "eb0ae526-97d7-40d2-b8df-5a32aa379b53",
   "metadata": {},
   "source": [
    "### Tools"
   ]
  },
  {
   "cell_type": "code",
   "execution_count": 3,
   "id": "1074ae1c-f5d2-45e4-b5ee-09b61258c592",
   "metadata": {},
   "outputs": [
    {
     "name": "stdout",
     "output_type": "stream",
     "text": [
      "\u001b[33mWARNING: There was an error checking the latest version of pip.\u001b[0m\u001b[33m\n",
      "\u001b[0mNote: you may need to restart the kernel to use updated packages.\n",
      "\u001b[33mWARNING: There was an error checking the latest version of pip.\u001b[0m\u001b[33m\n",
      "\u001b[0mNote: you may need to restart the kernel to use updated packages.\n",
      "\u001b[33mWARNING: There was an error checking the latest version of pip.\u001b[0m\u001b[33m\n",
      "\u001b[0mNote: you may need to restart the kernel to use updated packages.\n",
      "\u001b[33mWARNING: There was an error checking the latest version of pip.\u001b[0m\u001b[33m\n",
      "\u001b[0mNote: you may need to restart the kernel to use updated packages.\n",
      "\u001b[33mWARNING: Retrying (Retry(total=4, connect=None, read=None, redirect=None, status=None)) after connection broken by 'NewConnectionError('<pip._vendor.urllib3.connection.HTTPSConnection object at 0x10c0e7e90>: Failed to establish a new connection: [Errno 8] nodename nor servname provided, or not known')': /simple/wikibase-rest-api-client/\u001b[0m\u001b[33m\n",
      "\u001b[0m\u001b[33mWARNING: Retrying (Retry(total=3, connect=None, read=None, redirect=None, status=None)) after connection broken by 'NewConnectionError('<pip._vendor.urllib3.connection.HTTPSConnection object at 0x10c52d510>: Failed to establish a new connection: [Errno 8] nodename nor servname provided, or not known')': /simple/wikibase-rest-api-client/\u001b[0m\u001b[33m\n",
      "\u001b[0m\u001b[33mWARNING: Retrying (Retry(total=2, connect=None, read=None, redirect=None, status=None)) after connection broken by 'NewConnectionError('<pip._vendor.urllib3.connection.HTTPSConnection object at 0x10e2d3390>: Failed to establish a new connection: [Errno 8] nodename nor servname provided, or not known')': /simple/wikibase-rest-api-client/\u001b[0m\u001b[33m\n",
      "\u001b[0m\u001b[33mWARNING: Retrying (Retry(total=1, connect=None, read=None, redirect=None, status=None)) after connection broken by 'NewConnectionError('<pip._vendor.urllib3.connection.HTTPSConnection object at 0x10e2f46d0>: Failed to establish a new connection: [Errno 8] nodename nor servname provided, or not known')': /simple/wikibase-rest-api-client/\u001b[0m\u001b[33m\n",
      "\u001b[0m\u001b[33mWARNING: There was an error checking the latest version of pip.\u001b[0m\u001b[33m\n",
      "\u001b[0mNote: you may need to restart the kernel to use updated packages.\n"
     ]
    }
   ],
   "source": [
    "%pip install langchain_community -q\n",
    "%pip install tavily-python -q\n",
    "%pip install python-dotenv -q\n",
    "%pip install langchainhub -q\n",
    "%pip install wikibase-rest-api-client mediawikiapi -q"
   ]
  },
  {
   "cell_type": "markdown",
   "id": "74983e12-a639-4764-8d41-5088e721a21b",
   "metadata": {},
   "source": []
  },
  {
   "cell_type": "code",
   "execution_count": 2,
   "id": "ff61e7d1",
   "metadata": {},
   "outputs": [
    {
     "name": "stdout",
     "output_type": "stream",
     "text": [
      "Collecting boto3\n",
      "  Obtaining dependency information for boto3 from https://files.pythonhosted.org/packages/8c/74/11971c651e88169ffdba829e106dadadb64480748c3c5ecc08e55d71fc13/boto3-1.38.4-py3-none-any.whl.metadata\n",
      "  Downloading boto3-1.38.4-py3-none-any.whl.metadata (6.6 kB)\n",
      "Collecting botocore<1.39.0,>=1.38.4 (from boto3)\n",
      "  Obtaining dependency information for botocore<1.39.0,>=1.38.4 from https://files.pythonhosted.org/packages/6b/67/93837ce62b4e49eaf77f076c4781e942386acb70ad1923429df8c6b1371e/botocore-1.38.4-py3-none-any.whl.metadata\n",
      "  Downloading botocore-1.38.4-py3-none-any.whl.metadata (5.7 kB)\n",
      "Collecting jmespath<2.0.0,>=0.7.1 (from boto3)\n",
      "  Obtaining dependency information for jmespath<2.0.0,>=0.7.1 from https://files.pythonhosted.org/packages/31/b4/b9b800c45527aadd64d5b442f9b932b00648617eb5d63d2c7a6587b7cafc/jmespath-1.0.1-py3-none-any.whl.metadata\n",
      "  Downloading jmespath-1.0.1-py3-none-any.whl.metadata (7.6 kB)\n",
      "Collecting s3transfer<0.13.0,>=0.12.0 (from boto3)\n",
      "  Obtaining dependency information for s3transfer<0.13.0,>=0.12.0 from https://files.pythonhosted.org/packages/89/64/d2b49620039b82688aeebd510bd62ff4cdcdb86cbf650cc72ae42c5254a3/s3transfer-0.12.0-py3-none-any.whl.metadata\n",
      "  Downloading s3transfer-0.12.0-py3-none-any.whl.metadata (1.7 kB)\n",
      "Requirement already satisfied: python-dateutil<3.0.0,>=2.1 in /Users/oscarluo/Documents/GSB570 Generative AI/gsb570env/lib/python3.11/site-packages (from botocore<1.39.0,>=1.38.4->boto3) (2.9.0.post0)\n",
      "Collecting urllib3!=2.2.0,<3,>=1.25.4 (from botocore<1.39.0,>=1.38.4->boto3)\n",
      "  Obtaining dependency information for urllib3!=2.2.0,<3,>=1.25.4 from https://files.pythonhosted.org/packages/6b/11/cc635220681e93a0183390e26485430ca2c7b5f9d33b15c74c2861cb8091/urllib3-2.4.0-py3-none-any.whl.metadata\n",
      "  Downloading urllib3-2.4.0-py3-none-any.whl.metadata (6.5 kB)\n",
      "Requirement already satisfied: six>=1.5 in /Users/oscarluo/Documents/GSB570 Generative AI/gsb570env/lib/python3.11/site-packages (from python-dateutil<3.0.0,>=2.1->botocore<1.39.0,>=1.38.4->boto3) (1.17.0)\n",
      "Downloading boto3-1.38.4-py3-none-any.whl (139 kB)\n",
      "\u001b[2K   \u001b[90m━━━━━━━━━━━━━━━━━━━━━━━━━━━━━━━━━━━━━━━━\u001b[0m \u001b[32m139.9/139.9 kB\u001b[0m \u001b[31m2.2 MB/s\u001b[0m eta \u001b[36m0:00:00\u001b[0ma \u001b[36m0:00:01\u001b[0m\n",
      "\u001b[?25hDownloading botocore-1.38.4-py3-none-any.whl (13.5 MB)\n",
      "\u001b[2K   \u001b[90m━━━━━━━━━━━━━━━━━━━━━━━━━━━━━━━━━━━━━━━━\u001b[0m \u001b[32m13.5/13.5 MB\u001b[0m \u001b[31m7.8 MB/s\u001b[0m eta \u001b[36m0:00:00\u001b[0m00:01\u001b[0m00:01\u001b[0m\n",
      "\u001b[?25hUsing cached jmespath-1.0.1-py3-none-any.whl (20 kB)\n",
      "Downloading s3transfer-0.12.0-py3-none-any.whl (84 kB)\n",
      "\u001b[2K   \u001b[90m━━━━━━━━━━━━━━━━━━━━━━━━━━━━━━━━━━━━━━━━\u001b[0m \u001b[32m84.8/84.8 kB\u001b[0m \u001b[31m2.5 MB/s\u001b[0m eta \u001b[36m0:00:00\u001b[0m\n",
      "\u001b[?25hUsing cached urllib3-2.4.0-py3-none-any.whl (128 kB)\n",
      "Installing collected packages: urllib3, jmespath, botocore, s3transfer, boto3\n",
      "Successfully installed boto3-1.38.4 botocore-1.38.4 jmespath-1.0.1 s3transfer-0.12.0 urllib3-2.4.0\n",
      "\u001b[33mWARNING: There was an error checking the latest version of pip.\u001b[0m\u001b[33m\n",
      "\u001b[0mNote: you may need to restart the kernel to use updated packages.\n"
     ]
    }
   ],
   "source": [
    "pip install boto3"
   ]
  },
  {
   "cell_type": "code",
   "execution_count": 10,
   "id": "7b440d19-08bc-4f7e-be3f-f5f28b77c221",
   "metadata": {},
   "outputs": [],
   "source": [
    "import os\n",
    "import boto3\n",
    "\n",
    "from langchain_community.tools.tavily_search import TavilySearchResults\n",
    "from langchain_community.tools.wikidata.tool import WikidataAPIWrapper, WikidataQueryRun\n",
    "from langchain.utilities.tavily_search import TavilySearchAPIWrapper\n",
    "from langchain.agents import AgentExecutor, create_structured_chat_agent\n",
    "from langchain_community.chat_models import BedrockChat\n",
    "from langchain_core.messages import AIMessage, HumanMessage\n",
    "from langchain import hub\n",
    "from dotenv import load_dotenv\n",
    "\n",
    "load_dotenv()\n",
    "# Create the AWS client for the Bedrock runtime with boto3\n",
    "aws_client = boto3.client(service_name=\"bedrock-runtime\")"
   ]
  },
  {
   "cell_type": "markdown",
   "id": "4030cbbf-2631-4dbf-9d85-e88e848e7de6",
   "metadata": {},
   "source": [
    "### Agent Setup\n",
    "We need three components to make up our agent\n",
    "1) Tools we plan to use to execute respond to input\n",
    "2) LLM we plan to use as our logic executor\n",
    "3) Agent type we plan to use for this use case\n"
   ]
  },
  {
   "cell_type": "markdown",
   "id": "459effca-b19c-4e0e-ae1b-04c273c3e31f",
   "metadata": {},
   "source": [
    "#### Homework\n",
    "Find a useful tool other than Wikidata or Tavily to explore what it can do"
   ]
  },
  {
   "cell_type": "code",
   "execution_count": 7,
   "id": "048e28d7",
   "metadata": {},
   "outputs": [
    {
     "name": "stdout",
     "output_type": "stream",
     "text": [
      "LangChain version: 0.3.24\n",
      "LangChain Community version: 0.3.23\n"
     ]
    }
   ],
   "source": [
    "import langchain\n",
    "import langchain_community\n",
    "\n",
    "print(\"LangChain version:\", langchain.__version__)\n",
    "print(\"LangChain Community version:\", langchain_community.__version__)"
   ]
  },
  {
   "cell_type": "code",
   "execution_count": 8,
   "id": "b215753a",
   "metadata": {},
   "outputs": [
    {
     "name": "stdout",
     "output_type": "stream",
     "text": [
      "Found existing installation: langchain-community 0.3.23\n",
      "Uninstalling langchain-community-0.3.23:\n",
      "  Successfully uninstalled langchain-community-0.3.23\n",
      "Collecting langchain-community\n",
      "  Using cached langchain_community-0.3.23-py3-none-any.whl.metadata (2.5 kB)\n",
      "Requirement already satisfied: langchain-core<1.0.0,>=0.3.56 in /Users/oscarluo/Documents/GSB570 Generative AI/gsb570env/lib/python3.11/site-packages (from langchain-community) (0.3.56)\n",
      "Requirement already satisfied: langchain<1.0.0,>=0.3.24 in /Users/oscarluo/Documents/GSB570 Generative AI/gsb570env/lib/python3.11/site-packages (from langchain-community) (0.3.24)\n",
      "Requirement already satisfied: SQLAlchemy<3,>=1.4 in /Users/oscarluo/Documents/GSB570 Generative AI/gsb570env/lib/python3.11/site-packages (from langchain-community) (2.0.40)\n",
      "Requirement already satisfied: requests<3,>=2 in /Users/oscarluo/Documents/GSB570 Generative AI/gsb570env/lib/python3.11/site-packages (from langchain-community) (2.32.3)\n",
      "Requirement already satisfied: PyYAML>=5.3 in /Users/oscarluo/Documents/GSB570 Generative AI/gsb570env/lib/python3.11/site-packages (from langchain-community) (6.0.2)\n",
      "Requirement already satisfied: aiohttp<4.0.0,>=3.8.3 in /Users/oscarluo/Documents/GSB570 Generative AI/gsb570env/lib/python3.11/site-packages (from langchain-community) (3.11.18)\n",
      "Requirement already satisfied: tenacity!=8.4.0,<10,>=8.1.0 in /Users/oscarluo/Documents/GSB570 Generative AI/gsb570env/lib/python3.11/site-packages (from langchain-community) (9.1.2)\n",
      "Requirement already satisfied: dataclasses-json<0.7,>=0.5.7 in /Users/oscarluo/Documents/GSB570 Generative AI/gsb570env/lib/python3.11/site-packages (from langchain-community) (0.6.7)\n",
      "Requirement already satisfied: pydantic-settings<3.0.0,>=2.4.0 in /Users/oscarluo/Documents/GSB570 Generative AI/gsb570env/lib/python3.11/site-packages (from langchain-community) (2.9.1)\n",
      "Requirement already satisfied: langsmith<0.4,>=0.1.125 in /Users/oscarluo/Documents/GSB570 Generative AI/gsb570env/lib/python3.11/site-packages (from langchain-community) (0.3.38)\n",
      "Requirement already satisfied: httpx-sse<1.0.0,>=0.4.0 in /Users/oscarluo/Documents/GSB570 Generative AI/gsb570env/lib/python3.11/site-packages (from langchain-community) (0.4.0)\n",
      "Requirement already satisfied: numpy>=1.26.2 in /Users/oscarluo/Documents/GSB570 Generative AI/gsb570env/lib/python3.11/site-packages (from langchain-community) (2.2.5)\n",
      "Requirement already satisfied: aiohappyeyeballs>=2.3.0 in /Users/oscarluo/Documents/GSB570 Generative AI/gsb570env/lib/python3.11/site-packages (from aiohttp<4.0.0,>=3.8.3->langchain-community) (2.6.1)\n",
      "Requirement already satisfied: aiosignal>=1.1.2 in /Users/oscarluo/Documents/GSB570 Generative AI/gsb570env/lib/python3.11/site-packages (from aiohttp<4.0.0,>=3.8.3->langchain-community) (1.3.2)\n",
      "Requirement already satisfied: attrs>=17.3.0 in /Users/oscarluo/Documents/GSB570 Generative AI/gsb570env/lib/python3.11/site-packages (from aiohttp<4.0.0,>=3.8.3->langchain-community) (25.3.0)\n",
      "Requirement already satisfied: frozenlist>=1.1.1 in /Users/oscarluo/Documents/GSB570 Generative AI/gsb570env/lib/python3.11/site-packages (from aiohttp<4.0.0,>=3.8.3->langchain-community) (1.6.0)\n",
      "Requirement already satisfied: multidict<7.0,>=4.5 in /Users/oscarluo/Documents/GSB570 Generative AI/gsb570env/lib/python3.11/site-packages (from aiohttp<4.0.0,>=3.8.3->langchain-community) (6.4.3)\n",
      "Requirement already satisfied: propcache>=0.2.0 in /Users/oscarluo/Documents/GSB570 Generative AI/gsb570env/lib/python3.11/site-packages (from aiohttp<4.0.0,>=3.8.3->langchain-community) (0.3.1)\n",
      "Requirement already satisfied: yarl<2.0,>=1.17.0 in /Users/oscarluo/Documents/GSB570 Generative AI/gsb570env/lib/python3.11/site-packages (from aiohttp<4.0.0,>=3.8.3->langchain-community) (1.20.0)\n",
      "Requirement already satisfied: marshmallow<4.0.0,>=3.18.0 in /Users/oscarluo/Documents/GSB570 Generative AI/gsb570env/lib/python3.11/site-packages (from dataclasses-json<0.7,>=0.5.7->langchain-community) (3.26.1)\n",
      "Requirement already satisfied: typing-inspect<1,>=0.4.0 in /Users/oscarluo/Documents/GSB570 Generative AI/gsb570env/lib/python3.11/site-packages (from dataclasses-json<0.7,>=0.5.7->langchain-community) (0.9.0)\n",
      "Requirement already satisfied: langchain-text-splitters<1.0.0,>=0.3.8 in /Users/oscarluo/Documents/GSB570 Generative AI/gsb570env/lib/python3.11/site-packages (from langchain<1.0.0,>=0.3.24->langchain-community) (0.3.8)\n",
      "Requirement already satisfied: pydantic<3.0.0,>=2.7.4 in /Users/oscarluo/Documents/GSB570 Generative AI/gsb570env/lib/python3.11/site-packages (from langchain<1.0.0,>=0.3.24->langchain-community) (2.11.3)\n",
      "Requirement already satisfied: jsonpatch<2.0,>=1.33 in /Users/oscarluo/Documents/GSB570 Generative AI/gsb570env/lib/python3.11/site-packages (from langchain-core<1.0.0,>=0.3.56->langchain-community) (1.33)\n",
      "Requirement already satisfied: packaging<25,>=23.2 in /Users/oscarluo/Documents/GSB570 Generative AI/gsb570env/lib/python3.11/site-packages (from langchain-core<1.0.0,>=0.3.56->langchain-community) (24.2)\n",
      "Requirement already satisfied: typing-extensions>=4.7 in /Users/oscarluo/Documents/GSB570 Generative AI/gsb570env/lib/python3.11/site-packages (from langchain-core<1.0.0,>=0.3.56->langchain-community) (4.12.2)\n",
      "Requirement already satisfied: jsonpointer>=1.9 in /Users/oscarluo/Documents/GSB570 Generative AI/gsb570env/lib/python3.11/site-packages (from jsonpatch<2.0,>=1.33->langchain-core<1.0.0,>=0.3.56->langchain-community) (3.0.0)\n",
      "Requirement already satisfied: httpx<1,>=0.23.0 in /Users/oscarluo/Documents/GSB570 Generative AI/gsb570env/lib/python3.11/site-packages (from langsmith<0.4,>=0.1.125->langchain-community) (0.27.2)\n",
      "Requirement already satisfied: orjson<4.0.0,>=3.9.14 in /Users/oscarluo/Documents/GSB570 Generative AI/gsb570env/lib/python3.11/site-packages (from langsmith<0.4,>=0.1.125->langchain-community) (3.10.16)\n",
      "Requirement already satisfied: requests-toolbelt<2.0.0,>=1.0.0 in /Users/oscarluo/Documents/GSB570 Generative AI/gsb570env/lib/python3.11/site-packages (from langsmith<0.4,>=0.1.125->langchain-community) (1.0.0)\n",
      "Requirement already satisfied: zstandard<0.24.0,>=0.23.0 in /Users/oscarluo/Documents/GSB570 Generative AI/gsb570env/lib/python3.11/site-packages (from langsmith<0.4,>=0.1.125->langchain-community) (0.23.0)\n",
      "Requirement already satisfied: anyio in /Users/oscarluo/Documents/GSB570 Generative AI/gsb570env/lib/python3.11/site-packages (from httpx<1,>=0.23.0->langsmith<0.4,>=0.1.125->langchain-community) (4.9.0)\n",
      "Requirement already satisfied: certifi in /Users/oscarluo/Documents/GSB570 Generative AI/gsb570env/lib/python3.11/site-packages (from httpx<1,>=0.23.0->langsmith<0.4,>=0.1.125->langchain-community) (2022.12.7)\n",
      "Requirement already satisfied: httpcore==1.* in /Users/oscarluo/Documents/GSB570 Generative AI/gsb570env/lib/python3.11/site-packages (from httpx<1,>=0.23.0->langsmith<0.4,>=0.1.125->langchain-community) (1.0.9)\n",
      "Requirement already satisfied: idna in /Users/oscarluo/Documents/GSB570 Generative AI/gsb570env/lib/python3.11/site-packages (from httpx<1,>=0.23.0->langsmith<0.4,>=0.1.125->langchain-community) (3.4)\n",
      "Requirement already satisfied: sniffio in /Users/oscarluo/Documents/GSB570 Generative AI/gsb570env/lib/python3.11/site-packages (from httpx<1,>=0.23.0->langsmith<0.4,>=0.1.125->langchain-community) (1.3.1)\n",
      "Requirement already satisfied: h11>=0.16 in /Users/oscarluo/Documents/GSB570 Generative AI/gsb570env/lib/python3.11/site-packages (from httpcore==1.*->httpx<1,>=0.23.0->langsmith<0.4,>=0.1.125->langchain-community) (0.16.0)\n",
      "Requirement already satisfied: annotated-types>=0.6.0 in /Users/oscarluo/Documents/GSB570 Generative AI/gsb570env/lib/python3.11/site-packages (from pydantic<3.0.0,>=2.7.4->langchain<1.0.0,>=0.3.24->langchain-community) (0.7.0)\n",
      "Requirement already satisfied: pydantic-core==2.33.1 in /Users/oscarluo/Documents/GSB570 Generative AI/gsb570env/lib/python3.11/site-packages (from pydantic<3.0.0,>=2.7.4->langchain<1.0.0,>=0.3.24->langchain-community) (2.33.1)\n",
      "Requirement already satisfied: typing-inspection>=0.4.0 in /Users/oscarluo/Documents/GSB570 Generative AI/gsb570env/lib/python3.11/site-packages (from pydantic<3.0.0,>=2.7.4->langchain<1.0.0,>=0.3.24->langchain-community) (0.4.0)\n",
      "Requirement already satisfied: python-dotenv>=0.21.0 in /Users/oscarluo/Documents/GSB570 Generative AI/gsb570env/lib/python3.11/site-packages (from pydantic-settings<3.0.0,>=2.4.0->langchain-community) (1.1.0)\n",
      "Requirement already satisfied: charset-normalizer<4,>=2 in /Users/oscarluo/Documents/GSB570 Generative AI/gsb570env/lib/python3.11/site-packages (from requests<3,>=2->langchain-community) (2.1.1)\n",
      "Requirement already satisfied: urllib3<3,>=1.21.1 in /Users/oscarluo/Documents/GSB570 Generative AI/gsb570env/lib/python3.11/site-packages (from requests<3,>=2->langchain-community) (1.26.13)\n",
      "Requirement already satisfied: greenlet>=1 in /Users/oscarluo/Documents/GSB570 Generative AI/gsb570env/lib/python3.11/site-packages (from SQLAlchemy<3,>=1.4->langchain-community) (3.2.1)\n",
      "Requirement already satisfied: mypy-extensions>=0.3.0 in /Users/oscarluo/Documents/GSB570 Generative AI/gsb570env/lib/python3.11/site-packages (from typing-inspect<1,>=0.4.0->dataclasses-json<0.7,>=0.5.7->langchain-community) (1.1.0)\n",
      "Using cached langchain_community-0.3.23-py3-none-any.whl (2.5 MB)\n",
      "Installing collected packages: langchain-community\n",
      "Successfully installed langchain-community-0.3.23\n"
     ]
    }
   ],
   "source": [
    "!pip uninstall langchain-community -y\n",
    "!pip install langchain-community --upgrade"
   ]
  },
  {
   "cell_type": "code",
   "execution_count": 4,
   "id": "1136e6d0",
   "metadata": {},
   "outputs": [
    {
     "name": "stdout",
     "output_type": "stream",
     "text": [
      "Requirement already satisfied: langchain in /Users/oscarluo/Documents/GSB570 Generative AI/gsb570env/lib/python3.11/site-packages (0.3.24)\n",
      "\u001b[31mERROR: Could not find a version that satisfies the requirement serperdevtool (from versions: none)\u001b[0m\u001b[31m\n",
      "\u001b[0m\u001b[31mERROR: No matching distribution found for serperdevtool\u001b[0m\u001b[31m\n",
      "\u001b[0mNote: you may need to restart the kernel to use updated packages.\n"
     ]
    }
   ],
   "source": [
    "pip install langchain serperdevtool"
   ]
  },
  {
   "cell_type": "code",
   "execution_count": 19,
   "id": "6482a868-fcf4-4207-9d7b-8b18482d9d3c",
   "metadata": {},
   "outputs": [],
   "source": [
    "# Your tool here\n",
    "# 1 Start with a simple web search tool:\n",
    "#tools = -> FIND A GOOD TOOL\n",
    "from langchain_community.utilities import GoogleSerperAPIWrapper\n",
    "from langchain.tools import Tool\n",
    "from langchain.agents import initialize_agent, Tool\n",
    "from langchain.agents import AgentType\n",
    "\n",
    "serper_wrapper = GoogleSerperAPIWrapper(api_key='SERPER_API_KEY')\n",
    "\n",
    "serper_tool = Tool(\n",
    "    name=\"Google Serper Search\",\n",
    "    func=serper_wrapper.run,\n",
    "    description=\"Use this tool to search the web when you need to find recent or factual information\"\n",
    ")\n",
    "\n",
    "tools = [serper_tool]"
   ]
  },
  {
   "cell_type": "code",
   "execution_count": 20,
   "id": "809f62d9-b7f9-4b1a-9aa8-e1c94dcb6a03",
   "metadata": {},
   "outputs": [
    {
     "name": "stderr",
     "output_type": "stream",
     "text": [
      "/Users/oscarluo/Documents/GSB570 Generative AI/gsb570env/lib/python3.11/site-packages/langsmith/client.py:272: LangSmithMissingAPIKeyWarning: API key must be provided when using hosted LangSmith API\n",
      "  warnings.warn(\n"
     ]
    }
   ],
   "source": [
    "# 2 LLM, Let's use Claude's Haiku\n",
    "model_id = \"anthropic.claude-3-sonnet-20240229-v1:0\"\n",
    "\n",
    "# Grab our LLM of choice\n",
    "model_kwargs =  { \n",
    "    \"max_tokens\": 2048,\n",
    "    \"temperature\": 0.0,\n",
    "    \"top_k\": 250,\n",
    "    \"top_p\": 0.9,\n",
    "    \"stop_sequences\": [\"\\n\\nHuman\"],\n",
    "}\n",
    "llm = BedrockChat(\n",
    "    client=aws_client,\n",
    "    model_id=model_id,\n",
    "    model_kwargs=model_kwargs,\n",
    ")\n",
    "\n",
    "# Get the prompt to use with our agent\n",
    "# The hub provides sample templates for each agent type\n",
    "prompt = hub.pull(\"hwchase17/structured-chat-agent\")\n",
    "\n",
    "# print(\"Tools:\", tools)\n",
    "# print(\"Prompt\", prompt)\n",
    "\n"
   ]
  },
  {
   "cell_type": "markdown",
   "id": "1f8f2005-01f2-4478-bef9-e53cc82134e0",
   "metadata": {},
   "source": [
    "Using your new tool see if you can get the expected output"
   ]
  },
  {
   "cell_type": "code",
   "execution_count": 21,
   "id": "5a293eeb-62ab-4f6a-a25f-92792e96dbc4",
   "metadata": {},
   "outputs": [
    {
     "name": "stdout",
     "output_type": "stream",
     "text": [
      "\n",
      "\n",
      "\u001b[1m> Entering new AgentExecutor chain...\u001b[0m\n",
      "\u001b[32;1m\u001b[1;3mOkay, let me try to find some recent information on the economy today.\n",
      "\n",
      "Action:\n",
      "```json\n",
      "{\n",
      "  \"action\": \"Google Serper Search\",\n",
      "  \"action_input\": \"economy news today\"\n",
      "}\n",
      "```\n",
      "\u001b[0m\u001b[36;1m\u001b[1;3mFind the latest economic news, current events and headlines, as well as blogs and video from CNBC.com. Economy · Lunch Break: Trump vs. Amazon · Consumers Give Thumbs Down on Tariffs · US Consumer Confidence Plummets to Covid-Era Low as Trade War Stokes Anxiety. The latest news on the economy, job market, real estate industry and workplace. Includes coverage of the Federal Reserve and government spending at the ... Is the 2025 recession coming? Forecasters are roughly split, with nearly 4 in 10 figuring more than 50% odds of a downturn, according to a ... Read about thriving and emerging markets, the global economy, and the latest financial data and forecasts. Latest news and insight about the impact of current events on our economy from MarketWatch. The latest news on the economy, jobs market, U.S. trade and housing, including the latest news and analysis on the Federal Reserve and Central Banking. Last Week's Major U.S. Economic Reports & Fed Speakers ; 10:00 am, New home sales, March, 724,000, 685,000 ; 2:00 pm, Fed Beige Book. Bloomberg delivers business and markets news, data, analysis, and video to the world, featuring stories from Businessweek and Bloomberg News. Read the latest economic current events, with updates on the state of the global economy including trade, business, and more.\u001b[0m\u001b[32;1m\u001b[1;3mBased on the search results, it seems there are a few key points about the economy today:\n",
      "\n",
      "Action:\n",
      "```json\n",
      "{\n",
      "  \"action\": \"Final Answer\",\n",
      "  \"action_input\": \"- Consumer confidence has dropped to a COVID-era low due to concerns over the trade war and tariffs. \\n\\n- There are mixed forecasts on whether a recession will hit by 2025, with around 40% of forecasters predicting over 50% odds of a downturn.\\n\\n- The latest economic data includes a drop in new home sales for March and the Fed's Beige Book release providing an overview of economic conditions.\\n\\n- News outlets like CNBC, MarketWatch, and Bloomberg are covering the latest developments and impacts on the economy from current events like the trade disputes.\"\n",
      "}\n",
      "```\u001b[0m\n",
      "\n",
      "\u001b[1m> Finished chain.\u001b[0m\n"
     ]
    },
    {
     "data": {
      "text/plain": [
       "{'input': 'What happened with the economy today?',\n",
       " 'output': \"- Consumer confidence has dropped to a COVID-era low due to concerns over the trade war and tariffs. \\n\\n- There are mixed forecasts on whether a recession will hit by 2025, with around 40% of forecasters predicting over 50% odds of a downturn.\\n\\n- The latest economic data includes a drop in new home sales for March and the Fed's Beige Book release providing an overview of economic conditions.\\n\\n- News outlets like CNBC, MarketWatch, and Bloomberg are covering the latest developments and impacts on the economy from current events like the trade disputes.\"}"
      ]
     },
     "execution_count": 21,
     "metadata": {},
     "output_type": "execute_result"
    }
   ],
   "source": [
    "# 3 Construct the create_structured_chat_agent agent\n",
    "# https://python.langchain.com/v0.1/docs/modules/agents/agent_types/\n",
    "agent = create_structured_chat_agent(llm, tools, prompt)\n",
    "\n",
    "# run the agent\n",
    "# Create an agent executor by passing in the agent and tools\n",
    "agent_executor = AgentExecutor(\n",
    "    agent=agent, tools=tools, verbose=True, handle_parsing_errors=True\n",
    ")\n",
    "\n",
    "agent_executor.invoke({\"input\": \"What happened with the economy today?\"})"
   ]
  },
  {
   "cell_type": "code",
   "execution_count": null,
   "id": "16994298-44e6-4e99-b84c-c7675855da26",
   "metadata": {},
   "outputs": [],
   "source": []
  }
 ],
 "metadata": {
  "kernelspec": {
   "display_name": "gsb570env",
   "language": "python",
   "name": "python3"
  },
  "language_info": {
   "codemirror_mode": {
    "name": "ipython",
    "version": 3
   },
   "file_extension": ".py",
   "mimetype": "text/x-python",
   "name": "python",
   "nbconvert_exporter": "python",
   "pygments_lexer": "ipython3",
   "version": "3.11.7"
  }
 },
 "nbformat": 4,
 "nbformat_minor": 5
}
